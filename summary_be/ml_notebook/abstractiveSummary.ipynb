{
  "nbformat": 4,
  "nbformat_minor": 0,
  "metadata": {
    "colab": {
      "provenance": [],
      "authorship_tag": "ABX9TyPr4Nk3EQVPe94Zt6VyexoA",
      "include_colab_link": true
    },
    "kernelspec": {
      "name": "python3",
      "display_name": "Python 3"
    },
    "language_info": {
      "name": "python"
    }
  },
  "cells": [
    {
      "cell_type": "markdown",
      "metadata": {
        "id": "view-in-github",
        "colab_type": "text"
      },
      "source": [
        "<a href=\"https://colab.research.google.com/github/ubclaunchpad/Essentially/blob/abstractive-summary/summary_be/ml_notebook/abstractiveSummary.ipynb\" target=\"_parent\"><img src=\"https://colab.research.google.com/assets/colab-badge.svg\" alt=\"Open In Colab\"/></a>"
      ]
    },
    {
      "cell_type": "markdown",
      "source": [
        "\n",
        "\n",
        "# Abstractive Summary Model\n",
        "The notebook covers the following steps:\n",
        "\n",
        "- Importing pre-trained GloVe embeddings and using them to convert the tokenized words into embedding vectors\n",
        "- Preprocessing the data by tokenizing the texts and keywords and converting them into numerical representations\n",
        "\n"
      ],
      "metadata": {
        "id": "b6H6h4BDqPtj"
      }
    },
    {
      "cell_type": "code",
      "source": [
        "# Mount Google Drive\n",
        "from google.colab import drive\n",
        "drive.mount('/content/drive')\n",
        "\n",
        "# Access the \"ML_DATA/AbstractiveSummary\" folder in Google Drive\n",
        "import os\n",
        "os.chdir(\"/content/drive/My Drive/DataML/AbstractiveSummary\")"
      ],
      "metadata": {
        "colab": {
          "base_uri": "https://localhost:8080/"
        },
        "id": "UmX2dYZNs40L",
        "outputId": "54824c6a-4afc-4f40-d717-ae02542385bd"
      },
      "execution_count": 1,
      "outputs": [
        {
          "output_type": "stream",
          "name": "stdout",
          "text": [
            "Mounted at /content/drive\n"
          ]
        }
      ]
    },
    {
      "cell_type": "code",
      "execution_count": 2,
      "metadata": {
        "id": "tcJI13kXqM0s"
      },
      "outputs": [],
      "source": [
        "# Installing required dependencies\n",
        "!pip install tensorflow -q\n",
        "!pip install keras -q\n",
        "!pip install nltk -q"
      ]
    },
    {
      "cell_type": "code",
      "source": [
        "# import pre-trained GloVe embeddings and use them to convert the tokenized words into embedding vectors\n",
        "import numpy as np\n",
        "\n",
        "def load_embeddings(embeddings_file):\n",
        "    # Load the embeddings into a dictionary, where the keys are the words and the values are the embedding vectors\n",
        "    embeddings = {}\n",
        "    with open(embeddings_file, 'r') as f:\n",
        "        for line in f:\n",
        "            values = line.strip().split()\n",
        "            word = values[0]\n",
        "            vector = np.array(values[1:], dtype='float32')\n",
        "            embeddings[word] = vector\n",
        "    return embeddings\n",
        "\n",
        "def get_word_embeddings(tokenized_texts, embeddings):\n",
        "    # Convert the tokenized words into embedding vectors using the pre-trained embeddings\n",
        "    word_embeddings = []\n",
        "    for text in tokenized_texts:\n",
        "        text_embeddings = []\n",
        "        for word in text:\n",
        "            if word in embeddings:\n",
        "                text_embeddings.append(embeddings[word])\n",
        "            else:\n",
        "                # Use a random embedding vector for out-of-vocabulary words\n",
        "                text_embeddings.append(np.random.rand(100))\n",
        "        word_embeddings.append(text_embeddings)\n",
        "    return word_embeddings"
      ],
      "metadata": {
        "id": "HZHPIqWFqW_S"
      },
      "execution_count": 3,
      "outputs": []
    },
    {
      "cell_type": "code",
      "source": [
        "# Prepare the data: Preprocess the data by tokenizing the texts \n",
        "# and converting the keywords and texts into numerical representations such as word embeddings.\n",
        "import nltk\n",
        "nltk.download('punkt')\n",
        "from nltk.tokenize import word_tokenize\n",
        "\n",
        "def preprocess_data(texts, keywords):\n",
        "    # Tokenize the texts and keywords\n",
        "    tokenized_texts = [word_tokenize(text) for text in texts]\n",
        "    tokenized_keywords = [word_tokenize(keyword) for keyword in keywords]\n",
        "\n",
        "    # Convert the tokenized data into numerical representations using word embeddings\n",
        "    embeddings = load_embeddings('glove.6B.100d.txt')\n",
        "    word_embeddings = get_word_embeddings(tokenized_texts, embeddings)\n",
        "    keyword_embeddings = get_word_embeddings(tokenized_keywords, embeddings)\n",
        "\n",
        "    return word_embeddings, keyword_embeddings"
      ],
      "metadata": {
        "id": "xg2dcu0LqZVl",
        "colab": {
          "base_uri": "https://localhost:8080/"
        },
        "outputId": "a30efff6-5674-4beb-c1e1-13922f407f5a"
      },
      "execution_count": 4,
      "outputs": [
        {
          "output_type": "stream",
          "name": "stderr",
          "text": [
            "[nltk_data] Downloading package punkt to /root/nltk_data...\n",
            "[nltk_data]   Unzipping tokenizers/punkt.zip.\n"
          ]
        }
      ]
    }
  ]
}