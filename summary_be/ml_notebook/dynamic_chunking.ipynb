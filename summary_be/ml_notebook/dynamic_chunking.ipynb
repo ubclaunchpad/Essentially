{
  "nbformat": 4,
  "nbformat_minor": 0,
  "metadata": {
    "colab": {
      "provenance": [],
      "authorship_tag": "ABX9TyNORzkxfdxKKcNI5yqF1enI",
      "include_colab_link": true
    },
    "kernelspec": {
      "name": "python3",
      "display_name": "Python 3"
    },
    "language_info": {
      "name": "python"
    }
  },
  "cells": [
    {
      "cell_type": "markdown",
      "metadata": {
        "id": "view-in-github",
        "colab_type": "text"
      },
      "source": [
        "<a href=\"https://colab.research.google.com/github/ubclaunchpad/tl-dr/blob/optimization/summary_be/ml_notebook/dynamic_chunking.ipynb\" target=\"_parent\"><img src=\"https://colab.research.google.com/assets/colab-badge.svg\" alt=\"Open In Colab\"/></a>"
      ]
    },
    {
      "cell_type": "markdown",
      "source": [
        "# Dynamic Chunking\n",
        "This notebook implements dynamic chunking of text into semantically distinct paragraphs.\n",
        "\n",
        "*   [SBERT](https://www.sbert.net/) is used to extract semantic feature vectors in sentences\n",
        "*   Vectors can be compared to find sentences of similar meaning\n",
        "\n",
        "Dynamic chunking solves the following problems:\n",
        "\n",
        "\n",
        "*   Summarization of long texts\n",
        "*   Preservation of detail in the overall summary\n",
        "\n",
        "**TODO**\n",
        "*   This notebook is not complete, missing examples and explanations\n",
        "*   Compare time for each method\n"
      ],
      "metadata": {
        "id": "dTHsgGOLa8Vr"
      }
    },
    {
      "cell_type": "code",
      "source": [
        "!pip install sentence_transformers"
      ],
      "metadata": {
        "colab": {
          "base_uri": "https://localhost:8080/"
        },
        "id": "QewF-0LpSq1L",
        "outputId": "6a7b403a-e3ad-45e5-8d7b-7cbb71e0f7fe"
      },
      "execution_count": null,
      "outputs": [
        {
          "output_type": "stream",
          "name": "stdout",
          "text": [
            "Looking in indexes: https://pypi.org/simple, https://us-python.pkg.dev/colab-wheels/public/simple/\n",
            "Requirement already satisfied: sentence_transformers in /usr/local/lib/python3.7/dist-packages (2.2.2)\n",
            "Requirement already satisfied: tqdm in /usr/local/lib/python3.7/dist-packages (from sentence_transformers) (4.64.1)\n",
            "Requirement already satisfied: torchvision in /usr/local/lib/python3.7/dist-packages (from sentence_transformers) (0.13.1+cu113)\n",
            "Requirement already satisfied: scipy in /usr/local/lib/python3.7/dist-packages (from sentence_transformers) (1.7.3)\n",
            "Requirement already satisfied: scikit-learn in /usr/local/lib/python3.7/dist-packages (from sentence_transformers) (1.0.2)\n",
            "Requirement already satisfied: nltk in /usr/local/lib/python3.7/dist-packages (from sentence_transformers) (3.7)\n",
            "Requirement already satisfied: sentencepiece in /usr/local/lib/python3.7/dist-packages (from sentence_transformers) (0.1.97)\n",
            "Requirement already satisfied: transformers<5.0.0,>=4.6.0 in /usr/local/lib/python3.7/dist-packages (from sentence_transformers) (4.24.0)\n",
            "Requirement already satisfied: huggingface-hub>=0.4.0 in /usr/local/lib/python3.7/dist-packages (from sentence_transformers) (0.10.1)\n",
            "Requirement already satisfied: numpy in /usr/local/lib/python3.7/dist-packages (from sentence_transformers) (1.21.6)\n",
            "Requirement already satisfied: torch>=1.6.0 in /usr/local/lib/python3.7/dist-packages (from sentence_transformers) (1.12.1+cu113)\n",
            "Requirement already satisfied: importlib-metadata in /usr/local/lib/python3.7/dist-packages (from huggingface-hub>=0.4.0->sentence_transformers) (4.13.0)\n",
            "Requirement already satisfied: packaging>=20.9 in /usr/local/lib/python3.7/dist-packages (from huggingface-hub>=0.4.0->sentence_transformers) (21.3)\n",
            "Requirement already satisfied: filelock in /usr/local/lib/python3.7/dist-packages (from huggingface-hub>=0.4.0->sentence_transformers) (3.8.0)\n",
            "Requirement already satisfied: pyyaml>=5.1 in /usr/local/lib/python3.7/dist-packages (from huggingface-hub>=0.4.0->sentence_transformers) (6.0)\n",
            "Requirement already satisfied: typing-extensions>=3.7.4.3 in /usr/local/lib/python3.7/dist-packages (from huggingface-hub>=0.4.0->sentence_transformers) (4.1.1)\n",
            "Requirement already satisfied: requests in /usr/local/lib/python3.7/dist-packages (from huggingface-hub>=0.4.0->sentence_transformers) (2.28.1)\n",
            "Requirement already satisfied: pyparsing!=3.0.5,>=2.0.2 in /usr/local/lib/python3.7/dist-packages (from packaging>=20.9->huggingface-hub>=0.4.0->sentence_transformers) (3.0.9)\n",
            "Requirement already satisfied: regex!=2019.12.17 in /usr/local/lib/python3.7/dist-packages (from transformers<5.0.0,>=4.6.0->sentence_transformers) (2022.6.2)\n",
            "Requirement already satisfied: tokenizers!=0.11.3,<0.14,>=0.11.1 in /usr/local/lib/python3.7/dist-packages (from transformers<5.0.0,>=4.6.0->sentence_transformers) (0.13.2)\n",
            "Requirement already satisfied: zipp>=0.5 in /usr/local/lib/python3.7/dist-packages (from importlib-metadata->huggingface-hub>=0.4.0->sentence_transformers) (3.10.0)\n",
            "Requirement already satisfied: joblib in /usr/local/lib/python3.7/dist-packages (from nltk->sentence_transformers) (1.2.0)\n",
            "Requirement already satisfied: click in /usr/local/lib/python3.7/dist-packages (from nltk->sentence_transformers) (7.1.2)\n",
            "Requirement already satisfied: charset-normalizer<3,>=2 in /usr/local/lib/python3.7/dist-packages (from requests->huggingface-hub>=0.4.0->sentence_transformers) (2.1.1)\n",
            "Requirement already satisfied: idna<4,>=2.5 in /usr/local/lib/python3.7/dist-packages (from requests->huggingface-hub>=0.4.0->sentence_transformers) (2.10)\n",
            "Requirement already satisfied: certifi>=2017.4.17 in /usr/local/lib/python3.7/dist-packages (from requests->huggingface-hub>=0.4.0->sentence_transformers) (2022.9.24)\n",
            "Requirement already satisfied: urllib3<1.27,>=1.21.1 in /usr/local/lib/python3.7/dist-packages (from requests->huggingface-hub>=0.4.0->sentence_transformers) (1.24.3)\n",
            "Requirement already satisfied: threadpoolctl>=2.0.0 in /usr/local/lib/python3.7/dist-packages (from scikit-learn->sentence_transformers) (3.1.0)\n",
            "Requirement already satisfied: pillow!=8.3.*,>=5.3.0 in /usr/local/lib/python3.7/dist-packages (from torchvision->sentence_transformers) (7.1.2)\n"
          ]
        }
      ]
    },
    {
      "cell_type": "code",
      "source": [
        "import pandas as pd\n",
        "import numpy as np\n",
        "import math\n",
        "import nltk\n",
        "nltk.download('punkt')\n",
        "from nltk import sent_tokenize\n",
        "from tqdm import tnrange\n",
        "from sentence_transformers import SentenceTransformer\n",
        "from sklearn.metrics.pairwise import cosine_similarity\n",
        "import seaborn as sns\n",
        "from scipy.signal import argrelextrema\n",
        "import matplotlib.pyplot as plt"
      ],
      "metadata": {
        "colab": {
          "base_uri": "https://localhost:8080/"
        },
        "id": "q0VfRJ_sTNQ6",
        "outputId": "f4b03fce-2903-42b6-94f3-96a7d6d388fc"
      },
      "execution_count": null,
      "outputs": [
        {
          "output_type": "stream",
          "name": "stderr",
          "text": [
            "[nltk_data] Downloading package punkt to /root/nltk_data...\n",
            "[nltk_data]   Package punkt is already up-to-date!\n"
          ]
        }
      ]
    },
    {
      "cell_type": "code",
      "source": [
        "MODEL = 'all-MiniLM-L6-v2'\n",
        "model = SentenceTransformer(MODEL)"
      ],
      "metadata": {
        "id": "ouSiySJaTOnJ"
      },
      "execution_count": null,
      "outputs": []
    },
    {
      "cell_type": "code",
      "source": [
        "TEXT = \"\"\"Elon Musk sold $3.95 billion worth of Tesla stock since completing his purchase of Twitter late last month. \n",
        "          Musk’s Tesla stock sales, totaling 19.5 million shares, have been widely anticipated ever since the Tesla CEO\n",
        "          reached a deal to buy Twitter for $44 billion. Musk had sold blocks of Tesla shares worth a total of $15.4 billion\n",
        "          earlier this year since his deal to buy Twitter was announced. Twitter confirmed Musk bought the social media company\n",
        "          October 27, but he waited until November 4 to start selling additional Tesla shares. He also sold blocks of Tesla \n",
        "          stock on Monday and Tuesday this week, according to filings to the Securities and Exchange Commission late Tuesday night. \n",
        "          It’s not clear if the money Musk raised went toward the Twitter purchase, or to support losses at Twitter since he \n",
        "          took over. Musk disclosed last week that Twitter has seen a “massive drop in revenue,” as a growing number of advertisers \n",
        "          pause spending on the platform in the wake of his takeover of the company. He blamed “activist groups” pressuring \n",
        "          advertisers for the loss of ad dollars. He has announced plans to charge users $8 a month to have verified accounts, \n",
        "          and also announced deep staff cuts. This is not the best time to be selling Tesla shares, which have lost 46% of their \n",
        "          value so far this year on disappointing sales caused by supply chain problems. Musk received an average price of $202.52 \n",
        "          for the Tesla shares he sold since the Twitter deal closed, which is down 10% just since he closed on his deal to buy \n",
        "          Twitter. Shares of Tesla fell 0.7% in after-hours trading Tuesday. The company is facing growing competition in the \n",
        "          electric vehicle market from established automakers such as Volkswagen, Ford and General Motors. And some investors \n",
        "          have expressed concerns that Musk will be too distracted by his purchase of Twitter to give enough attention to \n",
        "          addressing Tesla’s problems.\"\"\""
      ],
      "metadata": {
        "id": "F8ko-i59hK24"
      },
      "execution_count": null,
      "outputs": []
    },
    {
      "cell_type": "code",
      "source": [
        "sns.set(rc={\"figure.dpi\":100, 'savefig.dpi':100})\n",
        "sns.set_context('notebook')\n",
        "sns.set_style(\"ticks\")"
      ],
      "metadata": {
        "id": "l89kojjIX6MI"
      },
      "execution_count": null,
      "outputs": []
    },
    {
      "cell_type": "markdown",
      "source": [
        "## Cosine-similarity matrix\n",
        "Sentence embeddings are compared using cosine-similarity to find similar sentences.\n",
        "\n",
        "The closer the value is to 1, the smaller the angle between the vectors and the more similar the sentences are to each other."
      ],
      "metadata": {
        "id": "iRwO2n5cd38_"
      }
    },
    {
      "cell_type": "code",
      "execution_count": null,
      "metadata": {
        "id": "n3r4ygRHSVn-"
      },
      "outputs": [],
      "source": [
        "def embed_sentences(text):\n",
        "    sent_embeddings = sent_tokenize(text)\n",
        "    for i in range (len(sent_embeddings)):\n",
        "        sent_embeddings[i] = model.encode(sent_embeddings[i])\n",
        "    return sent_embeddings\n",
        "\n",
        "def create_similarity_matrix(sent_embeddings):\n",
        "    similarity_matrix = cosine_similarity(sent_embeddings)\n",
        "    return similarity_matrix"
      ]
    },
    {
      "cell_type": "code",
      "source": [
        "similarity_matrix = create_similarity_matrix(embed_sentences(TEXT))\n",
        "sns.set(rc={'figure.figsize':(6.25, 5)})\n",
        "sns.heatmap(similarity_matrix).set_title('Cosine-Similarity Matrix')\n",
        "plt.show()"
      ],
      "metadata": {
        "colab": {
          "base_uri": "https://localhost:8080/",
          "height": 465
        },
        "id": "UFThhjjUZcFR",
        "outputId": "4274585d-f2a7-4eb5-8229-0c87915d23cc"
      },
      "execution_count": null,
      "outputs": [
        {
          "output_type": "display_data",
          "data": {
            "text/plain": [
              "<Figure size 625x500 with 2 Axes>"
            ],
            "image/png": "[encoded data removed]"
          },
          "metadata": {}
        }
      ]
    },
    {
      "cell_type": "markdown",
      "source": [
        "## Dynamic Chunking While Preserving Order\n",
        "\n",
        "This approach exploits the existing structure of a news article, which groups topics together into sequential chunks.\n",
        "\n",
        "We are concerned with finding **where** the \"topic\" changes, and inserting a breakpoint. Once these chunks are discovered, we can use parallel processing to generate summaries of each chunk and concatenate them together."
      ],
      "metadata": {
        "id": "ZCP0b-bLjaRt"
      }
    },
    {
      "cell_type": "code",
      "source": [
        "def rev_sigmoid(x):\n",
        "    return (1 / (1 + math.exp(0.5*x)))\n",
        "\n",
        "def find_splitting_points(similarity_matrix):\n",
        "    size = 14\n",
        "    x = np.linspace(-10, 10, size)\n",
        "    y = np.vectorize(rev_sigmoid)\n",
        "    activation_weights = np.pad(y(x), (0, similarity_matrix.shape[0] - size))\n",
        "    diagonals = [similarity_matrix.diagonal(each) for each in range(0, similarity_matrix.shape[0])]\n",
        "    diagonals = [np.pad(each, (0, similarity_matrix.shape[0]-len(each))) for each in diagonals]\n",
        "    diagonals = np.stack(diagonals)\n",
        "    diagonals = diagonals * activation_weights.reshape(-1, 1)\n",
        "    weighted_sum = np.sum(diagonals, axis = 0)\n",
        "    return weighted_sum"
      ],
      "metadata": {
        "id": "mIWC6EU_ZP20"
      },
      "execution_count": null,
      "outputs": []
    },
    {
      "cell_type": "code",
      "source": [
        "activated_similarities = find_splitting_points(similarity_matrix)\n",
        "fig, ax = plt.subplots()\n",
        "minmimas = argrelextrema(activated_similarities, np.less, order=2)\n",
        "sns.set(rc={'figure.figsize':(6.5, 5)})\n",
        "sns.lineplot(y=activated_similarities, x=range(len(activated_similarities)), ax=ax).set_title('Relative Minimas')\n",
        "plt.vlines(x=minmimas, ymin=min(activated_similarities), ymax=max(activated_similarities), colors='purple', ls='--', lw=1, label='vline_multiple - full height')\n",
        "plt.show()"
      ],
      "metadata": {
        "colab": {
          "base_uri": "https://localhost:8080/",
          "height": 389
        },
        "id": "lraBzbhFZpu-",
        "outputId": "9913530d-d403-4464-bea3-12cd1ba7f968"
      },
      "execution_count": null,
      "outputs": [
        {
          "output_type": "display_data",
          "data": {
            "text/plain": [
              "<Figure size 650x400 with 1 Axes>"
            ],
            "image/png": "[encoded data removed]"
          },
          "metadata": {}
        }
      ]
    },
    {
      "cell_type": "markdown",
      "source": [
        "## Clustering by Topic\n",
        "\n",
        "We can also group sentences together by semantic meaning.\n",
        "\n",
        "This approach allows us to keep track of \"topics\" that are most prevalent in the text, which is an indicator of relevance. Advantages include being able to adjust the length of a text summary while having control over which topics appear in the summary. For example, if the client requests a short summary, we could choose to summarize and concatenate only sentences that embody the most prevalent topics.\n"
      ],
      "metadata": {
        "id": "udc_SEtXozeE"
      }
    },
    {
      "cell_type": "code",
      "source": [
        "sentences = sent_tokenize(TEXT)\n",
        "sentences = [sentence.strip() for sentence in sentences]\n",
        "data = pd.DataFrame(sentences)"
      ],
      "metadata": {
        "id": "AfwdNfxX3bAd"
      },
      "execution_count": null,
      "outputs": []
    },
    {
      "cell_type": "code",
      "source": [
        "def get_sentence_embeddings(sentence):\n",
        "    embedding = model.encode([sentence])\n",
        "    return embedding[0]"
      ],
      "metadata": {
        "id": "wOWEcyZf2k-M"
      },
      "execution_count": null,
      "outputs": []
    },
    {
      "cell_type": "code",
      "source": [
        "from nltk.cluster import KMeansClusterer\n",
        "def cluster(NUM_CLUSTERS = 3):\n",
        "    data.columns=['sentence']\n",
        "    data['embeddings']=data['sentence'].apply(get_sentence_embeddings)\n",
        "\n",
        "    iterations=25\n",
        "    X = np.array(data['embeddings'].tolist())\n",
        "    kclusterer = KMeansClusterer(\n",
        "            NUM_CLUSTERS, distance=nltk.cluster.util.cosine_distance,\n",
        "            repeats=iterations,avoid_empty_clusters=True)\n",
        "    assigned_clusters = kclusterer.cluster(X, assign_clusters=True)\n",
        "    data['cluster']=assigned_clusters\n",
        "    return data"
      ],
      "metadata": {
        "id": "tDMweRUzqZgv"
      },
      "execution_count": null,
      "outputs": []
    },
    {
      "cell_type": "code",
      "source": [
        "cluster()"
      ],
      "metadata": {
        "colab": {
          "base_uri": "https://localhost:8080/",
          "height": 488
        },
        "id": "VksPKXrEzxSp",
        "outputId": "9b8ee58f-79ad-4884-cf58-3a1e356ee83b"
      },
      "execution_count": null,
      "outputs": [
        {
          "output_type": "execute_result",
          "data": {
            "text/plain": [
              "                                             sentence  \\\n",
              "0   Elon Musk sold $3.95 billion worth of Tesla st...   \n",
              "1   Musk’s Tesla stock sales, totaling 19.5 millio...   \n",
              "2   Musk had sold blocks of Tesla shares worth a t...   \n",
              "3   Twitter confirmed Musk bought the social media...   \n",
              "4   He also sold blocks of Tesla \\n          stock...   \n",
              "5   It’s not clear if the money Musk raised went t...   \n",
              "6   Musk disclosed last week that Twitter has seen...   \n",
              "7   He blamed “activist groups” pressuring \\n     ...   \n",
              "8   He has announced plans to charge users $8 a mo...   \n",
              "9   This is not the best time to be selling Tesla ...   \n",
              "10  Musk received an average price of $202.52 \\n  ...   \n",
              "11  Shares of Tesla fell 0.7% in after-hours tradi...   \n",
              "12  The company is facing growing competition in t...   \n",
              "13  And some investors \\n          have expressed ...   \n",
              "\n",
              "                                           embeddings  cluster  \n",
              "0   [0.015738262, 0.049773764, 0.039228562, -0.002...        1  \n",
              "1   [0.0046068756, 0.010958798, 0.06972741, 0.0108...        1  \n",
              "2   [-0.014365158, 0.05811444, 0.053490557, 0.0085...        1  \n",
              "3   [0.0058419057, -0.014379907, 0.07404005, 0.016...        1  \n",
              "4   [-0.054390516, 0.033562854, -0.004229972, 0.01...        0  \n",
              "5   [0.007103605, 0.03970247, 0.091158584, -0.0287...        1  \n",
              "6   [0.017648496, 0.047859456, 0.077083685, -0.027...        2  \n",
              "7   [0.0009142382, 0.03492736, -0.017508835, 0.071...        2  \n",
              "8   [-0.04066035, -0.04515377, 0.045038592, -0.019...        2  \n",
              "9   [-0.02830206, 0.01951779, 0.061164685, 0.02635...        0  \n",
              "10  [0.035062186, 0.0321538, 0.091064826, 0.036340...        1  \n",
              "11  [-0.007510837, 0.034629587, 0.07932933, 0.1395...        0  \n",
              "12  [0.009982399, -0.004768099, 0.020714289, 0.011...        0  \n",
              "13  [0.05617005, 0.018335959, 0.07072651, 0.013934...        1  "
            ],
            "text/html": [
              "\n",
              "  <div id=\"df-601d8553-f9cc-484a-a123-a78a46c2543b\">\n",
              "    <div class=\"colab-df-container\">\n",
              "      <div>\n",
              "<style scoped>\n",
              "    .dataframe tbody tr th:only-of-type {\n",
              "        vertical-align: middle;\n",
              "    }\n",
              "\n",
              "    .dataframe tbody tr th {\n",
              "        vertical-align: top;\n",
              "    }\n",
              "\n",
              "    .dataframe thead th {\n",
              "        text-align: right;\n",
              "    }\n",
              "</style>\n",
              "<table border=\"1\" class=\"dataframe\">\n",
              "  <thead>\n",
              "    <tr style=\"text-align: right;\">\n",
              "      <th></th>\n",
              "      <th>sentence</th>\n",
              "      <th>embeddings</th>\n",
              "      <th>cluster</th>\n",
              "    </tr>\n",
              "  </thead>\n",
              "  <tbody>\n",
              "    <tr>\n",
              "      <th>0</th>\n",
              "      <td>Elon Musk sold $3.95 billion worth of Tesla st...</td>\n",
              "      <td>[0.015738262, 0.049773764, 0.039228562, -0.002...</td>\n",
              "      <td>1</td>\n",
              "    </tr>\n",
              "    <tr>\n",
              "      <th>1</th>\n",
              "      <td>Musk’s Tesla stock sales, totaling 19.5 millio...</td>\n",
              "      <td>[0.0046068756, 0.010958798, 0.06972741, 0.0108...</td>\n",
              "      <td>1</td>\n",
              "    </tr>\n",
              "    <tr>\n",
              "      <th>2</th>\n",
              "      <td>Musk had sold blocks of Tesla shares worth a t...</td>\n",
              "      <td>[-0.014365158, 0.05811444, 0.053490557, 0.0085...</td>\n",
              "      <td>1</td>\n",
              "    </tr>\n",
              "    <tr>\n",
              "      <th>3</th>\n",
              "      <td>Twitter confirmed Musk bought the social media...</td>\n",
              "      <td>[0.0058419057, -0.014379907, 0.07404005, 0.016...</td>\n",
              "      <td>1</td>\n",
              "    </tr>\n",
              "    <tr>\n",
              "      <th>4</th>\n",
              "      <td>He also sold blocks of Tesla \\n          stock...</td>\n",
              "      <td>[-0.054390516, 0.033562854, -0.004229972, 0.01...</td>\n",
              "      <td>0</td>\n",
              "    </tr>\n",
              "    <tr>\n",
              "      <th>5</th>\n",
              "      <td>It’s not clear if the money Musk raised went t...</td>\n",
              "      <td>[0.007103605, 0.03970247, 0.091158584, -0.0287...</td>\n",
              "      <td>1</td>\n",
              "    </tr>\n",
              "    <tr>\n",
              "      <th>6</th>\n",
              "      <td>Musk disclosed last week that Twitter has seen...</td>\n",
              "      <td>[0.017648496, 0.047859456, 0.077083685, -0.027...</td>\n",
              "      <td>2</td>\n",
              "    </tr>\n",
              "    <tr>\n",
              "      <th>7</th>\n",
              "      <td>He blamed “activist groups” pressuring \\n     ...</td>\n",
              "      <td>[0.0009142382, 0.03492736, -0.017508835, 0.071...</td>\n",
              "      <td>2</td>\n",
              "    </tr>\n",
              "    <tr>\n",
              "      <th>8</th>\n",
              "      <td>He has announced plans to charge users $8 a mo...</td>\n",
              "      <td>[-0.04066035, -0.04515377, 0.045038592, -0.019...</td>\n",
              "      <td>2</td>\n",
              "    </tr>\n",
              "    <tr>\n",
              "      <th>9</th>\n",
              "      <td>This is not the best time to be selling Tesla ...</td>\n",
              "      <td>[-0.02830206, 0.01951779, 0.061164685, 0.02635...</td>\n",
              "      <td>0</td>\n",
              "    </tr>\n",
              "    <tr>\n",
              "      <th>10</th>\n",
              "      <td>Musk received an average price of $202.52 \\n  ...</td>\n",
              "      <td>[0.035062186, 0.0321538, 0.091064826, 0.036340...</td>\n",
              "      <td>1</td>\n",
              "    </tr>\n",
              "    <tr>\n",
              "      <th>11</th>\n",
              "      <td>Shares of Tesla fell 0.7% in after-hours tradi...</td>\n",
              "      <td>[-0.007510837, 0.034629587, 0.07932933, 0.1395...</td>\n",
              "      <td>0</td>\n",
              "    </tr>\n",
              "    <tr>\n",
              "      <th>12</th>\n",
              "      <td>The company is facing growing competition in t...</td>\n",
              "      <td>[0.009982399, -0.004768099, 0.020714289, 0.011...</td>\n",
              "      <td>0</td>\n",
              "    </tr>\n",
              "    <tr>\n",
              "      <th>13</th>\n",
              "      <td>And some investors \\n          have expressed ...</td>\n",
              "      <td>[0.05617005, 0.018335959, 0.07072651, 0.013934...</td>\n",
              "      <td>1</td>\n",
              "    </tr>\n",
              "  </tbody>\n",
              "</table>\n",
              "</div>\n",
              "      <button class=\"colab-df-convert\" onclick=\"convertToInteractive('df-601d8553-f9cc-484a-a123-a78a46c2543b')\"\n",
              "              title=\"Convert this dataframe to an interactive table.\"\n",
              "              style=\"display:none;\">\n",
              "        \n",
              "  <svg xmlns=\"http://www.w3.org/2000/svg\" height=\"24px\"viewBox=\"0 0 24 24\"\n",
              "       width=\"24px\">\n",
              "    <path d=\"M0 0h24v24H0V0z\" fill=\"none\"/>\n",
              "    <path d=\"M18.56 5.44l.94 2.06.94-2.06 2.06-.94-2.06-.94-.94-2.06-.94 2.06-2.06.94zm-11 1L8.5 8.5l.94-2.06 2.06-.94-2.06-.94L8.5 2.5l-.94 2.06-2.06.94zm10 10l.94 2.06.94-2.06 2.06-.94-2.06-.94-.94-2.06-.94 2.06-2.06.94z\"/><path d=\"M17.41 7.96l-1.37-1.37c-.4-.4-.92-.59-1.43-.59-.52 0-1.04.2-1.43.59L10.3 9.45l-7.72 7.72c-.78.78-.78 2.05 0 2.83L4 21.41c.39.39.9.59 1.41.59.51 0 1.02-.2 1.41-.59l7.78-7.78 2.81-2.81c.8-.78.8-2.07 0-2.86zM5.41 20L4 18.59l7.72-7.72 1.47 1.35L5.41 20z\"/>\n",
              "  </svg>\n",
              "      </button>\n",
              "      \n",
              "  <style>\n",
              "    .colab-df-container {\n",
              "      display:flex;\n",
              "      flex-wrap:wrap;\n",
              "      gap: 12px;\n",
              "    }\n",
              "\n",
              "    .colab-df-convert {\n",
              "      background-color: #E8F0FE;\n",
              "      border: none;\n",
              "      border-radius: 50%;\n",
              "      cursor: pointer;\n",
              "      display: none;\n",
              "      fill: #1967D2;\n",
              "      height: 32px;\n",
              "      padding: 0 0 0 0;\n",
              "      width: 32px;\n",
              "    }\n",
              "\n",
              "    .colab-df-convert:hover {\n",
              "      background-color: #E2EBFA;\n",
              "      box-shadow: 0px 1px 2px rgba(60, 64, 67, 0.3), 0px 1px 3px 1px rgba(60, 64, 67, 0.15);\n",
              "      fill: #174EA6;\n",
              "    }\n",
              "\n",
              "    [theme=dark] .colab-df-convert {\n",
              "      background-color: #3B4455;\n",
              "      fill: #D2E3FC;\n",
              "    }\n",
              "\n",
              "    [theme=dark] .colab-df-convert:hover {\n",
              "      background-color: #434B5C;\n",
              "      box-shadow: 0px 1px 3px 1px rgba(0, 0, 0, 0.15);\n",
              "      filter: drop-shadow(0px 1px 2px rgba(0, 0, 0, 0.3));\n",
              "      fill: #FFFFFF;\n",
              "    }\n",
              "  </style>\n",
              "\n",
              "      <script>\n",
              "        const buttonEl =\n",
              "          document.querySelector('#df-601d8553-f9cc-484a-a123-a78a46c2543b button.colab-df-convert');\n",
              "        buttonEl.style.display =\n",
              "          google.colab.kernel.accessAllowed ? 'block' : 'none';\n",
              "\n",
              "        async function convertToInteractive(key) {\n",
              "          const element = document.querySelector('#df-601d8553-f9cc-484a-a123-a78a46c2543b');\n",
              "          const dataTable =\n",
              "            await google.colab.kernel.invokeFunction('convertToInteractive',\n",
              "                                                     [key], {});\n",
              "          if (!dataTable) return;\n",
              "\n",
              "          const docLinkHtml = 'Like what you see? Visit the ' +\n",
              "            '<a target=\"_blank\" href=https://colab.research.google.com/notebooks/data_table.ipynb>data table notebook</a>'\n",
              "            + ' to learn more about interactive tables.';\n",
              "          element.innerHTML = '';\n",
              "          dataTable['output_type'] = 'display_data';\n",
              "          await google.colab.output.renderOutput(dataTable, element);\n",
              "          const docLink = document.createElement('div');\n",
              "          docLink.innerHTML = docLinkHtml;\n",
              "          element.appendChild(docLink);\n",
              "        }\n",
              "      </script>\n",
              "    </div>\n",
              "  </div>\n",
              "  "
            ]
          },
          "metadata": {},
          "execution_count": 185
        }
      ]
    }
  ]
}